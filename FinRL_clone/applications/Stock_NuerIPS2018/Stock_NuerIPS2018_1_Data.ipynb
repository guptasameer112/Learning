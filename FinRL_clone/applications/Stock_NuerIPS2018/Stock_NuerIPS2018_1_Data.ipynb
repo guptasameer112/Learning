{
 "cells": [
  {
   "cell_type": "markdown",
   "metadata": {},
   "source": [
    "# Stock NeurIPS2018 Part 1: Data\n",
    "\n",
    "This is the first part of the NeurIPS2018 series, introducing how to use FinRL to fetch and process data that we need for ML/RL trading."
   ]
  },
  {
   "cell_type": "code",
   "execution_count": 1,
   "metadata": {},
   "outputs": [],
   "source": [
    "# TODO: find a way to make this work from the root directory without changing the working directory\n",
    "import os\n",
    "import sys\n",
    "sys.path.append(os.path.abspath(os.path.join(os.getcwd(), \"..\\..\")))"
   ]
  },
  {
   "cell_type": "code",
   "execution_count": 2,
   "metadata": {},
   "outputs": [
    {
     "name": "stdout",
     "output_type": "stream",
     "text": [
      "['C:\\\\Users\\\\gupta\\\\AppData\\\\Local\\\\Programs\\\\Python\\\\Python310\\\\python310.zip', 'C:\\\\Users\\\\gupta\\\\AppData\\\\Local\\\\Programs\\\\Python\\\\Python310\\\\DLLs', 'C:\\\\Users\\\\gupta\\\\AppData\\\\Local\\\\Programs\\\\Python\\\\Python310\\\\lib', 'C:\\\\Users\\\\gupta\\\\AppData\\\\Local\\\\Programs\\\\Python\\\\Python310', 'c:\\\\Users\\\\gupta\\\\Desktop\\\\Folders\\\\Others\\\\Learning\\\\Finance\\\\FinRL_clone\\\\venv', '', 'c:\\\\Users\\\\gupta\\\\Desktop\\\\Folders\\\\Others\\\\Learning\\\\Finance\\\\FinRL_clone\\\\venv\\\\lib\\\\site-packages', 'c:\\\\Users\\\\gupta\\\\Desktop\\\\Folders\\\\Others\\\\Learning\\\\Finance\\\\FinRL_clone\\\\venv\\\\lib\\\\site-packages\\\\win32', 'c:\\\\Users\\\\gupta\\\\Desktop\\\\Folders\\\\Others\\\\Learning\\\\Finance\\\\FinRL_clone\\\\venv\\\\lib\\\\site-packages\\\\win32\\\\lib', 'c:\\\\Users\\\\gupta\\\\Desktop\\\\Folders\\\\Others\\\\Learning\\\\Finance\\\\FinRL_clone\\\\venv\\\\lib\\\\site-packages\\\\Pythonwin', 'c:\\\\Users\\\\gupta\\\\Desktop\\\\Folders\\\\Others\\\\Learning\\\\Finance\\\\FinRL_clone']\n"
     ]
    }
   ],
   "source": [
    "print(sys.path)"
   ]
  },
  {
   "cell_type": "markdown",
   "metadata": {},
   "source": [
    "## Part 1. Install Packages"
   ]
  },
  {
   "cell_type": "code",
   "execution_count": 3,
   "metadata": {},
   "outputs": [],
   "source": [
    "import datetime\n",
    "import itertools\n",
    "import numpy as np\n",
    "import pandas as pd\n",
    "import yfinance as yf\n",
    "\n",
    "from finrl import index_tickers\n",
    "from finrl.config import INDICATORS \n",
    "from finrl.meta.preprocessor.yahoodownloader import YahooDownloader\n",
    "from finrl.meta.preprocessor.preprocessors import FeatureEngineer, data_split"
   ]
  },
  {
   "cell_type": "markdown",
   "metadata": {},
   "source": [
    "## Part 2. Fetch Data"
   ]
  },
  {
   "cell_type": "markdown",
   "metadata": {},
   "source": [
    "### Data for chosen tickers"
   ]
  },
  {
   "cell_type": "code",
   "execution_count": 4,
   "metadata": {},
   "outputs": [
    {
     "data": {
      "text/plain": [
       "['ADANIPORTS.NS',\n",
       " 'ASIANPAINT.NS',\n",
       " 'AXISBANK.NS',\n",
       " 'BAJAJ-AUTO.NS',\n",
       " 'BAJFINANCE.NS',\n",
       " 'BAJAJFINSV.NS',\n",
       " 'BPCL.NS',\n",
       " 'BHARTIARTL.NS',\n",
       " 'BRITANNIA.NS',\n",
       " 'CIPLA.NS',\n",
       " 'COALINDIA.NS',\n",
       " 'DIVISLAB.NS',\n",
       " 'DRREDDY.NS']"
      ]
     },
     "execution_count": 4,
     "metadata": {},
     "output_type": "execute_result"
    }
   ],
   "source": [
    "index_tickers.NIFTY_50_TICKER"
   ]
  },
  {
   "cell_type": "code",
   "execution_count": 5,
   "metadata": {},
   "outputs": [],
   "source": [
    "TRAIN_START_DATE = '2009-01-01'\n",
    "TRAIN_END_DATE = '2020-07-01'\n",
    "TRADE_START_DATE = '2020-07-01'\n",
    "TRADE_END_DATE = '2021-10-29'"
   ]
  },
  {
   "cell_type": "code",
   "execution_count": 6,
   "metadata": {},
   "outputs": [
    {
     "name": "stderr",
     "output_type": "stream",
     "text": [
      "[*********************100%***********************]  1 of 1 completed\n",
      "[*********************100%***********************]  1 of 1 completed\n",
      "[*********************100%***********************]  1 of 1 completed\n",
      "[*********************100%***********************]  1 of 1 completed\n",
      "[*********************100%***********************]  1 of 1 completed\n",
      "[*********************100%***********************]  1 of 1 completed\n",
      "[*********************100%***********************]  1 of 1 completed\n",
      "[*********************100%***********************]  1 of 1 completed\n",
      "[*********************100%***********************]  1 of 1 completed\n",
      "[*********************100%***********************]  1 of 1 completed\n",
      "[*********************100%***********************]  1 of 1 completed\n",
      "[*********************100%***********************]  1 of 1 completed\n",
      "[*********************100%***********************]  1 of 1 completed\n"
     ]
    },
    {
     "name": "stdout",
     "output_type": "stream",
     "text": [
      "Shape of the Dataframe:  (40626, 8)\n"
     ]
    }
   ],
   "source": [
    "df_raw = YahooDownloader(start_date=TRAIN_START_DATE,\n",
    "                         end_date=TRADE_END_DATE,\n",
    "                         ticker_list=index_tickers.NIFTY_50_TICKER).fetch_data()"
   ]
  },
  {
   "cell_type": "code",
   "execution_count": 7,
   "metadata": {},
   "outputs": [
    {
     "data": {
      "text/html": [
       "<div>\n",
       "<style scoped>\n",
       "    .dataframe tbody tr th:only-of-type {\n",
       "        vertical-align: middle;\n",
       "    }\n",
       "\n",
       "    .dataframe tbody tr th {\n",
       "        vertical-align: top;\n",
       "    }\n",
       "\n",
       "    .dataframe thead th {\n",
       "        text-align: right;\n",
       "    }\n",
       "</style>\n",
       "<table border=\"1\" class=\"dataframe\">\n",
       "  <thead>\n",
       "    <tr style=\"text-align: right;\">\n",
       "      <th></th>\n",
       "      <th>date</th>\n",
       "      <th>open</th>\n",
       "      <th>high</th>\n",
       "      <th>low</th>\n",
       "      <th>close</th>\n",
       "      <th>volume</th>\n",
       "      <th>tick</th>\n",
       "      <th>day</th>\n",
       "    </tr>\n",
       "  </thead>\n",
       "  <tbody>\n",
       "    <tr>\n",
       "      <th>0</th>\n",
       "      <td>2009-01-02</td>\n",
       "      <td>67.300003</td>\n",
       "      <td>68.940002</td>\n",
       "      <td>65.800003</td>\n",
       "      <td>60.439636</td>\n",
       "      <td>845745</td>\n",
       "      <td>ADANIPORTS.NS</td>\n",
       "      <td>4</td>\n",
       "    </tr>\n",
       "    <tr>\n",
       "      <th>1</th>\n",
       "      <td>2009-01-02</td>\n",
       "      <td>89.910004</td>\n",
       "      <td>90.500000</td>\n",
       "      <td>88.510002</td>\n",
       "      <td>78.483749</td>\n",
       "      <td>45390</td>\n",
       "      <td>ASIANPAINT.NS</td>\n",
       "      <td>4</td>\n",
       "    </tr>\n",
       "    <tr>\n",
       "      <th>2</th>\n",
       "      <td>2009-01-02</td>\n",
       "      <td>104.400002</td>\n",
       "      <td>109.500000</td>\n",
       "      <td>103.459999</td>\n",
       "      <td>97.175278</td>\n",
       "      <td>14261265</td>\n",
       "      <td>AXISBANK.NS</td>\n",
       "      <td>4</td>\n",
       "    </tr>\n",
       "    <tr>\n",
       "      <th>3</th>\n",
       "      <td>2009-01-02</td>\n",
       "      <td>204.699997</td>\n",
       "      <td>210.000000</td>\n",
       "      <td>199.000000</td>\n",
       "      <td>139.212692</td>\n",
       "      <td>228864</td>\n",
       "      <td>BAJAJ-AUTO.NS</td>\n",
       "      <td>4</td>\n",
       "    </tr>\n",
       "    <tr>\n",
       "      <th>4</th>\n",
       "      <td>2009-01-02</td>\n",
       "      <td>14.884314</td>\n",
       "      <td>15.522915</td>\n",
       "      <td>14.343960</td>\n",
       "      <td>15.228212</td>\n",
       "      <td>255480</td>\n",
       "      <td>BAJAJFINSV.NS</td>\n",
       "      <td>4</td>\n",
       "    </tr>\n",
       "  </tbody>\n",
       "</table>\n",
       "</div>"
      ],
      "text/plain": [
       "         date        open        high         low       close    volume  \\\n",
       "0  2009-01-02   67.300003   68.940002   65.800003   60.439636    845745   \n",
       "1  2009-01-02   89.910004   90.500000   88.510002   78.483749     45390   \n",
       "2  2009-01-02  104.400002  109.500000  103.459999   97.175278  14261265   \n",
       "3  2009-01-02  204.699997  210.000000  199.000000  139.212692    228864   \n",
       "4  2009-01-02   14.884314   15.522915   14.343960   15.228212    255480   \n",
       "\n",
       "            tick  day  \n",
       "0  ADANIPORTS.NS    4  \n",
       "1  ASIANPAINT.NS    4  \n",
       "2    AXISBANK.NS    4  \n",
       "3  BAJAJ-AUTO.NS    4  \n",
       "4  BAJAJFINSV.NS    4  "
      ]
     },
     "execution_count": 7,
     "metadata": {},
     "output_type": "execute_result"
    }
   ],
   "source": [
    "df_raw.head()"
   ]
  },
  {
   "cell_type": "markdown",
   "metadata": {},
   "source": [
    "## Part 3. Preprocess Data"
   ]
  },
  {
   "cell_type": "code",
   "execution_count": 8,
   "metadata": {},
   "outputs": [
    {
     "name": "stdout",
     "output_type": "stream",
     "text": [
      "Successfully added technical indicators\n"
     ]
    },
    {
     "name": "stderr",
     "output_type": "stream",
     "text": [
      "[*********************100%***********************]  1 of 1 completed\n"
     ]
    },
    {
     "name": "stdout",
     "output_type": "stream",
     "text": [
      "Shape of the Dataframe:  (3228, 8)\n",
      "Successfully added vix\n",
      "Successfully added turbulence index\n"
     ]
    }
   ],
   "source": [
    "fe = FeatureEngineer(use_technical_indicator=True,\n",
    "                     tech_indicator_list = INDICATORS,\n",
    "                     use_vix=True,\n",
    "                     use_turbulence=True,\n",
    "                     user_defined_feature = False)\n",
    "\n",
    "processed = fe.preprocess_data(df_raw)"
   ]
  },
  {
   "cell_type": "code",
   "execution_count": 9,
   "metadata": {},
   "outputs": [],
   "source": [
    "list_ticker = processed[\"tick\"].unique().tolist()\n",
    "list_date = list(pd.date_range(processed['date'].min(), processed['date'].max()).astype(str))\n",
    "combination = list(itertools.product(list_date, list_ticker))\n",
    "\n",
    "processed_full = pd.DataFrame(combination, columns=[\"date\", \"tick\"]).merge(processed, on=[\"date\", \"tick\"], how=\"left\")\n",
    "processed_full = processed_full[processed_full[\"date\"].isin(processed[\"date\"])]\n",
    "processed_full = processed_full.sort_values([\"date\", \"tick\"])\n",
    "\n",
    "processed_full = processed_full.fillna(0)"
   ]
  },
  {
   "cell_type": "code",
   "execution_count": 10,
   "metadata": {},
   "outputs": [
    {
     "data": {
      "text/html": [
       "<div>\n",
       "<style scoped>\n",
       "    .dataframe tbody tr th:only-of-type {\n",
       "        vertical-align: middle;\n",
       "    }\n",
       "\n",
       "    .dataframe tbody tr th {\n",
       "        vertical-align: top;\n",
       "    }\n",
       "\n",
       "    .dataframe thead th {\n",
       "        text-align: right;\n",
       "    }\n",
       "</style>\n",
       "<table border=\"1\" class=\"dataframe\">\n",
       "  <thead>\n",
       "    <tr style=\"text-align: right;\">\n",
       "      <th></th>\n",
       "      <th>date</th>\n",
       "      <th>tick</th>\n",
       "      <th>open</th>\n",
       "      <th>high</th>\n",
       "      <th>low</th>\n",
       "      <th>close</th>\n",
       "      <th>volume</th>\n",
       "      <th>day</th>\n",
       "      <th>macd</th>\n",
       "      <th>boll_ub</th>\n",
       "      <th>boll_lb</th>\n",
       "      <th>rsi_30</th>\n",
       "      <th>cci_30</th>\n",
       "      <th>dx_30</th>\n",
       "      <th>close_30_sma</th>\n",
       "      <th>close_60_sma</th>\n",
       "      <th>vix</th>\n",
       "      <th>turbulence</th>\n",
       "    </tr>\n",
       "  </thead>\n",
       "  <tbody>\n",
       "    <tr>\n",
       "      <th>0</th>\n",
       "      <td>2009-01-02</td>\n",
       "      <td>ADANIPORTS.NS</td>\n",
       "      <td>67.300003</td>\n",
       "      <td>68.940002</td>\n",
       "      <td>65.800003</td>\n",
       "      <td>60.439636</td>\n",
       "      <td>845745.0</td>\n",
       "      <td>4.0</td>\n",
       "      <td>0.0</td>\n",
       "      <td>81.098763</td>\n",
       "      <td>50.572997</td>\n",
       "      <td>100.0</td>\n",
       "      <td>66.666667</td>\n",
       "      <td>100.0</td>\n",
       "      <td>60.439636</td>\n",
       "      <td>60.439636</td>\n",
       "      <td>39.189999</td>\n",
       "      <td>0.0</td>\n",
       "    </tr>\n",
       "    <tr>\n",
       "      <th>1</th>\n",
       "      <td>2009-01-02</td>\n",
       "      <td>ASIANPAINT.NS</td>\n",
       "      <td>89.910004</td>\n",
       "      <td>90.500000</td>\n",
       "      <td>88.510002</td>\n",
       "      <td>78.483749</td>\n",
       "      <td>45390.0</td>\n",
       "      <td>4.0</td>\n",
       "      <td>0.0</td>\n",
       "      <td>81.098763</td>\n",
       "      <td>50.572997</td>\n",
       "      <td>100.0</td>\n",
       "      <td>66.666667</td>\n",
       "      <td>100.0</td>\n",
       "      <td>78.483749</td>\n",
       "      <td>78.483749</td>\n",
       "      <td>39.189999</td>\n",
       "      <td>0.0</td>\n",
       "    </tr>\n",
       "    <tr>\n",
       "      <th>2</th>\n",
       "      <td>2009-01-02</td>\n",
       "      <td>AXISBANK.NS</td>\n",
       "      <td>104.400002</td>\n",
       "      <td>109.500000</td>\n",
       "      <td>103.459999</td>\n",
       "      <td>97.175278</td>\n",
       "      <td>14261265.0</td>\n",
       "      <td>4.0</td>\n",
       "      <td>0.0</td>\n",
       "      <td>81.098763</td>\n",
       "      <td>50.572997</td>\n",
       "      <td>100.0</td>\n",
       "      <td>66.666667</td>\n",
       "      <td>100.0</td>\n",
       "      <td>97.175278</td>\n",
       "      <td>97.175278</td>\n",
       "      <td>39.189999</td>\n",
       "      <td>0.0</td>\n",
       "    </tr>\n",
       "    <tr>\n",
       "      <th>3</th>\n",
       "      <td>2009-01-02</td>\n",
       "      <td>BAJAJ-AUTO.NS</td>\n",
       "      <td>204.699997</td>\n",
       "      <td>210.000000</td>\n",
       "      <td>199.000000</td>\n",
       "      <td>139.212692</td>\n",
       "      <td>228864.0</td>\n",
       "      <td>4.0</td>\n",
       "      <td>0.0</td>\n",
       "      <td>81.098763</td>\n",
       "      <td>50.572997</td>\n",
       "      <td>100.0</td>\n",
       "      <td>66.666667</td>\n",
       "      <td>100.0</td>\n",
       "      <td>139.212692</td>\n",
       "      <td>139.212692</td>\n",
       "      <td>39.189999</td>\n",
       "      <td>0.0</td>\n",
       "    </tr>\n",
       "    <tr>\n",
       "      <th>4</th>\n",
       "      <td>2009-01-02</td>\n",
       "      <td>BAJAJFINSV.NS</td>\n",
       "      <td>14.884314</td>\n",
       "      <td>15.522915</td>\n",
       "      <td>14.343960</td>\n",
       "      <td>15.228212</td>\n",
       "      <td>255480.0</td>\n",
       "      <td>4.0</td>\n",
       "      <td>0.0</td>\n",
       "      <td>81.098763</td>\n",
       "      <td>50.572997</td>\n",
       "      <td>100.0</td>\n",
       "      <td>66.666667</td>\n",
       "      <td>100.0</td>\n",
       "      <td>15.228212</td>\n",
       "      <td>15.228212</td>\n",
       "      <td>39.189999</td>\n",
       "      <td>0.0</td>\n",
       "    </tr>\n",
       "  </tbody>\n",
       "</table>\n",
       "</div>"
      ],
      "text/plain": [
       "         date           tick        open        high         low       close  \\\n",
       "0  2009-01-02  ADANIPORTS.NS   67.300003   68.940002   65.800003   60.439636   \n",
       "1  2009-01-02  ASIANPAINT.NS   89.910004   90.500000   88.510002   78.483749   \n",
       "2  2009-01-02    AXISBANK.NS  104.400002  109.500000  103.459999   97.175278   \n",
       "3  2009-01-02  BAJAJ-AUTO.NS  204.699997  210.000000  199.000000  139.212692   \n",
       "4  2009-01-02  BAJAJFINSV.NS   14.884314   15.522915   14.343960   15.228212   \n",
       "\n",
       "       volume  day  macd    boll_ub    boll_lb  rsi_30     cci_30  dx_30  \\\n",
       "0    845745.0  4.0   0.0  81.098763  50.572997   100.0  66.666667  100.0   \n",
       "1     45390.0  4.0   0.0  81.098763  50.572997   100.0  66.666667  100.0   \n",
       "2  14261265.0  4.0   0.0  81.098763  50.572997   100.0  66.666667  100.0   \n",
       "3    228864.0  4.0   0.0  81.098763  50.572997   100.0  66.666667  100.0   \n",
       "4    255480.0  4.0   0.0  81.098763  50.572997   100.0  66.666667  100.0   \n",
       "\n",
       "   close_30_sma  close_60_sma        vix  turbulence  \n",
       "0     60.439636     60.439636  39.189999         0.0  \n",
       "1     78.483749     78.483749  39.189999         0.0  \n",
       "2     97.175278     97.175278  39.189999         0.0  \n",
       "3    139.212692    139.212692  39.189999         0.0  \n",
       "4     15.228212     15.228212  39.189999         0.0  "
      ]
     },
     "execution_count": 10,
     "metadata": {},
     "output_type": "execute_result"
    }
   ],
   "source": [
    "processed_full.head()"
   ]
  },
  {
   "cell_type": "markdown",
   "metadata": {},
   "source": [
    "## Part 4. Save Processed Data"
   ]
  },
  {
   "cell_type": "code",
   "execution_count": 11,
   "metadata": {},
   "outputs": [
    {
     "name": "stdout",
     "output_type": "stream",
     "text": [
      "32952\n",
      "3864\n"
     ]
    }
   ],
   "source": [
    "train = data_split(processed_full, TRAIN_START_DATE,TRAIN_END_DATE)\n",
    "trade = data_split(processed_full, TRADE_START_DATE,TRADE_END_DATE)\n",
    "print(len(train))\n",
    "print(len(trade))"
   ]
  },
  {
   "cell_type": "code",
   "execution_count": 12,
   "metadata": {},
   "outputs": [],
   "source": [
    "train.to_csv('train_data.csv')\n",
    "trade.to_csv('trade_data.csv')"
   ]
  }
 ],
 "metadata": {
  "kernelspec": {
   "display_name": "venv",
   "language": "python",
   "name": "python3"
  },
  "language_info": {
   "codemirror_mode": {
    "name": "ipython",
    "version": 3
   },
   "file_extension": ".py",
   "mimetype": "text/x-python",
   "name": "python",
   "nbconvert_exporter": "python",
   "pygments_lexer": "ipython3",
   "version": "3.10.0"
  }
 },
 "nbformat": 4,
 "nbformat_minor": 2
}
